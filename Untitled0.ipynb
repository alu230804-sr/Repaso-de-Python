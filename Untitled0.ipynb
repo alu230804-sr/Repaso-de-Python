{
  "nbformat": 4,
  "nbformat_minor": 0,
  "metadata": {
    "colab": {
      "provenance": [],
      "authorship_tag": "ABX9TyM0gP4aQ+OTHsSS8dSdGvBt",
      "include_colab_link": true
    },
    "kernelspec": {
      "name": "python3",
      "display_name": "Python 3"
    },
    "language_info": {
      "name": "python"
    }
  },
  "cells": [
    {
      "cell_type": "markdown",
      "metadata": {
        "id": "view-in-github",
        "colab_type": "text"
      },
      "source": [
        "<a href=\"https://colab.research.google.com/github/alu230804-sr/Repaso-de-Python/blob/main/Untitled0.ipynb\" target=\"_parent\"><img src=\"https://colab.research.google.com/assets/colab-badge.svg\" alt=\"Open In Colab\"/></a>"
      ]
    },
    {
      "cell_type": "code",
      "execution_count": 1,
      "metadata": {
        "colab": {
          "base_uri": "https://localhost:8080/"
        },
        "id": "RK_V_l_PJFcF",
        "outputId": "abd2df77-6e7e-4b63-cfc8-976f4040215d"
      },
      "outputs": [
        {
          "output_type": "stream",
          "name": "stdout",
          "text": [
            "captura un numero50\n",
            "captura un numero30\n",
            "la suma es 80\n",
            "la resta es 20\n",
            "la multiplicacion es 1500\n",
            "la division es 1.6666666666666667\n"
          ]
        }
      ],
      "source": [
        "num1=int(input(\"captura un numero\"))\n",
        "num2=int(input(\"captura un numero\"))\n",
        "s=num1+num2\n",
        "print(\"la suma es\",s)\n",
        "r=num1-num2\n",
        "print(\"la resta es\",r)\n",
        "m=num1*num2\n",
        "print(\"la multiplicacion es\",m)\n",
        "d=num1/num2\n",
        "print(\"la division es\",d)"
      ]
    }
  ]
}