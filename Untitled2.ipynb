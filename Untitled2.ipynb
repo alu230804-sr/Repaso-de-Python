{
  "nbformat": 4,
  "nbformat_minor": 0,
  "metadata": {
    "colab": {
      "provenance": [],
      "authorship_tag": "ABX9TyNcwd5kSXRWEpGBJ4dmPNWn",
      "include_colab_link": true
    },
    "kernelspec": {
      "name": "python3",
      "display_name": "Python 3"
    },
    "language_info": {
      "name": "python"
    }
  },
  "cells": [
    {
      "cell_type": "markdown",
      "metadata": {
        "id": "view-in-github",
        "colab_type": "text"
      },
      "source": [
        "<a href=\"https://colab.research.google.com/github/alu230804-sr/Repaso-de-Python/blob/main/Untitled2.ipynb\" target=\"_parent\"><img src=\"https://colab.research.google.com/assets/colab-badge.svg\" alt=\"Open In Colab\"/></a>"
      ]
    },
    {
      "cell_type": "markdown",
      "source": [],
      "metadata": {
        "id": "w9xPlimfDY5T"
      }
    },
    {
      "cell_type": "markdown",
      "source": [
        "Realizar un programa en python que te permita capturar 3 números enteros e imprima cual de los 3 es el mayor"
      ],
      "metadata": {
        "id": "r4i3XEmrDZ_a"
      }
    },
    {
      "cell_type": "code",
      "execution_count": 1,
      "metadata": {
        "colab": {
          "base_uri": "https://localhost:8080/"
        },
        "id": "wpORqjKLDUmv",
        "outputId": "00d8f954-aaae-4bd4-89cd-ad82c6a5a588"
      },
      "outputs": [
        {
          "output_type": "stream",
          "name": "stdout",
          "text": [
            "ingrese el primer numero: 2\n",
            "ingrese el segundo numero: 3\n",
            "ingrese el tercer numero: 4\n",
            "el numero mayor es:  4\n"
          ]
        }
      ],
      "source": [
        "num1 = int(input(\"ingrese el primer numero: \"))\n",
        "num2 = int(input(\"ingrese el segundo numero: \"))\n",
        "num3 = int(input(\"ingrese el tercer numero: \"))\n",
        "print(\"el numero mayor es: \", max(num1, num2, num3))"
      ]
    },
    {
      "cell_type": "markdown",
      "source": [
        " Realizar un programa en python mediante el cual calcules el total de caracteres que tiene un nombre capturado desde el teclado."
      ],
      "metadata": {
        "id": "L0UrDH71Dlwh"
      }
    },
    {
      "cell_type": "code",
      "source": [
        "nombre =input(\"ingrese su nombre: \")\n",
        "total_caracteres = len(nombre)\n",
        "print(\"el nombre tiene\" , total_caracteres, \"caracteres\")"
      ],
      "metadata": {
        "colab": {
          "base_uri": "https://localhost:8080/"
        },
        "id": "iD4U717PDpr0",
        "outputId": "2055681d-e1da-40d5-9a41-9c487e558f82"
      },
      "execution_count": 4,
      "outputs": [
        {
          "output_type": "stream",
          "name": "stdout",
          "text": [
            "ingrese su nombre: marisol\n",
            "el nombre tiene 7 caracteres\n"
          ]
        }
      ]
    },
    {
      "cell_type": "markdown",
      "source": [
        " Realizar un programa en python que permita imprimir los 7 días de la semana."
      ],
      "metadata": {
        "id": "e0bla4KeE4RG"
      }
    },
    {
      "cell_type": "code",
      "source": [
        "dias = [\"lunes\", \"martes\", \"miercoles\", \"jueves\", \"viernes\", \"sabado\", \"domingo\"]\n",
        "for dia in dias:\n",
        "    print(dia)"
      ],
      "metadata": {
        "colab": {
          "base_uri": "https://localhost:8080/"
        },
        "id": "1O7kQJueE9M2",
        "outputId": "a824ca55-d4be-4051-b996-b25da67c4e95"
      },
      "execution_count": 5,
      "outputs": [
        {
          "output_type": "stream",
          "name": "stdout",
          "text": [
            "lunes\n",
            "martes\n",
            "miercoles\n",
            "jueves\n",
            "viernes\n",
            "sabado\n",
            "domingo\n"
          ]
        }
      ]
    }
  ]
}